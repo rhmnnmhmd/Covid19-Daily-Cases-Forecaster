{
 "cells": [
  {
   "cell_type": "markdown",
   "metadata": {},
   "source": [
    "# Libraries"
   ]
  },
  {
   "cell_type": "code",
   "execution_count": 5,
   "metadata": {},
   "outputs": [],
   "source": [
    "import tensorflow as tf\n",
    "from tensorflow.keras.models import load_model\n",
    "from tensorflow.keras.layers import Dense, LSTM, Dropout\n",
    "from tensorflow.keras import Input, Model\n",
    "from tensorflow.keras.utils import plot_model\n",
    "from tensorflow.keras.callbacks import TensorBoard, EarlyStopping\n",
    "from tensorflow.keras.metrics import mean_absolute_error, mean_absolute_percentage_error, mean_squared_error \n",
    "\n",
    "import matplotlib.pyplot as plt\n",
    "\n",
    "import os\n",
    "\n",
    "import datetime as dt\n",
    "\n",
    "import seaborn as sns\n",
    "\n",
    "import pandas as pd\n",
    "\n",
    "import sklearn \n",
    "from sklearn.preprocessing import MinMaxScaler\n",
    "\n",
    "import numpy as np\n",
    "\n",
    "import pickle\n",
    "\n",
    "from modules import create_model"
   ]
  },
  {
   "cell_type": "markdown",
   "metadata": {},
   "source": [
    "# Statics"
   ]
  },
  {
   "cell_type": "code",
   "execution_count": 6,
   "metadata": {},
   "outputs": [],
   "source": [
    "# model path\n",
    "MODEL_PATH = os.path.join(os.getcwd(), 'model', 'model.h5')\n",
    "\n",
    "# data path\n",
    "DATA_PATH_TRAIN = os.path.join(os.getcwd(), 'data', 'cases_malaysia_train.csv')\n",
    "DATA_PATH_TEST = os.path.join(os.getcwd(), 'data', 'cases_malaysia_test.csv')\n",
    "\n",
    "# scaler path\n",
    "SCALER_PATH = os.path.join(os.getcwd(), 'model', 'scaler.pkl')\n",
    "\n",
    "# logs path\n",
    "time_stamp = dt.datetime.now().strftime('%Y%m%d-%H%M%S')\n",
    "LOG_PATH = os.path.join(os.getcwd(), 'logs', time_stamp)"
   ]
  },
  {
   "cell_type": "markdown",
   "metadata": {},
   "source": [
    "# Data loading"
   ]
  },
  {
   "cell_type": "code",
   "execution_count": 7,
   "metadata": {},
   "outputs": [
    {
     "data": {
      "text/html": [
       "<div>\n",
       "<style scoped>\n",
       "    .dataframe tbody tr th:only-of-type {\n",
       "        vertical-align: middle;\n",
       "    }\n",
       "\n",
       "    .dataframe tbody tr th {\n",
       "        vertical-align: top;\n",
       "    }\n",
       "\n",
       "    .dataframe thead th {\n",
       "        text-align: right;\n",
       "    }\n",
       "</style>\n",
       "<table border=\"1\" class=\"dataframe\">\n",
       "  <thead>\n",
       "    <tr style=\"text-align: right;\">\n",
       "      <th></th>\n",
       "      <th>date</th>\n",
       "      <th>cases_new</th>\n",
       "      <th>cases_import</th>\n",
       "      <th>cases_recovered</th>\n",
       "      <th>cases_active</th>\n",
       "      <th>cases_cluster</th>\n",
       "      <th>cases_unvax</th>\n",
       "      <th>cases_pvax</th>\n",
       "      <th>cases_fvax</th>\n",
       "      <th>cases_boost</th>\n",
       "      <th>...</th>\n",
       "      <th>cases_60_69</th>\n",
       "      <th>cases_70_79</th>\n",
       "      <th>cases_80</th>\n",
       "      <th>cluster_import</th>\n",
       "      <th>cluster_religious</th>\n",
       "      <th>cluster_community</th>\n",
       "      <th>cluster_highRisk</th>\n",
       "      <th>cluster_education</th>\n",
       "      <th>cluster_detentionCentre</th>\n",
       "      <th>cluster_workplace</th>\n",
       "    </tr>\n",
       "  </thead>\n",
       "  <tbody>\n",
       "    <tr>\n",
       "      <th>0</th>\n",
       "      <td>25/1/2020</td>\n",
       "      <td>4</td>\n",
       "      <td>4</td>\n",
       "      <td>0</td>\n",
       "      <td>4</td>\n",
       "      <td>0</td>\n",
       "      <td>4</td>\n",
       "      <td>0</td>\n",
       "      <td>0</td>\n",
       "      <td>0</td>\n",
       "      <td>...</td>\n",
       "      <td>0</td>\n",
       "      <td>0</td>\n",
       "      <td>0</td>\n",
       "      <td>NaN</td>\n",
       "      <td>NaN</td>\n",
       "      <td>NaN</td>\n",
       "      <td>NaN</td>\n",
       "      <td>NaN</td>\n",
       "      <td>NaN</td>\n",
       "      <td>NaN</td>\n",
       "    </tr>\n",
       "    <tr>\n",
       "      <th>1</th>\n",
       "      <td>26/1/2020</td>\n",
       "      <td>0</td>\n",
       "      <td>0</td>\n",
       "      <td>0</td>\n",
       "      <td>4</td>\n",
       "      <td>0</td>\n",
       "      <td>0</td>\n",
       "      <td>0</td>\n",
       "      <td>0</td>\n",
       "      <td>0</td>\n",
       "      <td>...</td>\n",
       "      <td>0</td>\n",
       "      <td>0</td>\n",
       "      <td>0</td>\n",
       "      <td>NaN</td>\n",
       "      <td>NaN</td>\n",
       "      <td>NaN</td>\n",
       "      <td>NaN</td>\n",
       "      <td>NaN</td>\n",
       "      <td>NaN</td>\n",
       "      <td>NaN</td>\n",
       "    </tr>\n",
       "    <tr>\n",
       "      <th>2</th>\n",
       "      <td>27/1/2020</td>\n",
       "      <td>0</td>\n",
       "      <td>0</td>\n",
       "      <td>0</td>\n",
       "      <td>4</td>\n",
       "      <td>0</td>\n",
       "      <td>0</td>\n",
       "      <td>0</td>\n",
       "      <td>0</td>\n",
       "      <td>0</td>\n",
       "      <td>...</td>\n",
       "      <td>0</td>\n",
       "      <td>0</td>\n",
       "      <td>0</td>\n",
       "      <td>NaN</td>\n",
       "      <td>NaN</td>\n",
       "      <td>NaN</td>\n",
       "      <td>NaN</td>\n",
       "      <td>NaN</td>\n",
       "      <td>NaN</td>\n",
       "      <td>NaN</td>\n",
       "    </tr>\n",
       "    <tr>\n",
       "      <th>3</th>\n",
       "      <td>28/1/2020</td>\n",
       "      <td>0</td>\n",
       "      <td>0</td>\n",
       "      <td>0</td>\n",
       "      <td>4</td>\n",
       "      <td>0</td>\n",
       "      <td>0</td>\n",
       "      <td>0</td>\n",
       "      <td>0</td>\n",
       "      <td>0</td>\n",
       "      <td>...</td>\n",
       "      <td>0</td>\n",
       "      <td>0</td>\n",
       "      <td>0</td>\n",
       "      <td>NaN</td>\n",
       "      <td>NaN</td>\n",
       "      <td>NaN</td>\n",
       "      <td>NaN</td>\n",
       "      <td>NaN</td>\n",
       "      <td>NaN</td>\n",
       "      <td>NaN</td>\n",
       "    </tr>\n",
       "    <tr>\n",
       "      <th>4</th>\n",
       "      <td>29/1/2020</td>\n",
       "      <td>3</td>\n",
       "      <td>3</td>\n",
       "      <td>0</td>\n",
       "      <td>7</td>\n",
       "      <td>0</td>\n",
       "      <td>3</td>\n",
       "      <td>0</td>\n",
       "      <td>0</td>\n",
       "      <td>0</td>\n",
       "      <td>...</td>\n",
       "      <td>0</td>\n",
       "      <td>0</td>\n",
       "      <td>0</td>\n",
       "      <td>NaN</td>\n",
       "      <td>NaN</td>\n",
       "      <td>NaN</td>\n",
       "      <td>NaN</td>\n",
       "      <td>NaN</td>\n",
       "      <td>NaN</td>\n",
       "      <td>NaN</td>\n",
       "    </tr>\n",
       "    <tr>\n",
       "      <th>...</th>\n",
       "      <td>...</td>\n",
       "      <td>...</td>\n",
       "      <td>...</td>\n",
       "      <td>...</td>\n",
       "      <td>...</td>\n",
       "      <td>...</td>\n",
       "      <td>...</td>\n",
       "      <td>...</td>\n",
       "      <td>...</td>\n",
       "      <td>...</td>\n",
       "      <td>...</td>\n",
       "      <td>...</td>\n",
       "      <td>...</td>\n",
       "      <td>...</td>\n",
       "      <td>...</td>\n",
       "      <td>...</td>\n",
       "      <td>...</td>\n",
       "      <td>...</td>\n",
       "      <td>...</td>\n",
       "      <td>...</td>\n",
       "      <td>...</td>\n",
       "    </tr>\n",
       "    <tr>\n",
       "      <th>675</th>\n",
       "      <td>30/11/2021</td>\n",
       "      <td>4879</td>\n",
       "      <td>24</td>\n",
       "      <td>5168</td>\n",
       "      <td>64978</td>\n",
       "      <td>97</td>\n",
       "      <td>1125</td>\n",
       "      <td>55</td>\n",
       "      <td>3595</td>\n",
       "      <td>104</td>\n",
       "      <td>...</td>\n",
       "      <td>358</td>\n",
       "      <td>165</td>\n",
       "      <td>60</td>\n",
       "      <td>0.0</td>\n",
       "      <td>25.0</td>\n",
       "      <td>0.0</td>\n",
       "      <td>28.0</td>\n",
       "      <td>33.0</td>\n",
       "      <td>0.0</td>\n",
       "      <td>31.0</td>\n",
       "    </tr>\n",
       "    <tr>\n",
       "      <th>676</th>\n",
       "      <td>1/12/2021</td>\n",
       "      <td>5439</td>\n",
       "      <td>21</td>\n",
       "      <td>6803</td>\n",
       "      <td>63583</td>\n",
       "      <td>110</td>\n",
       "      <td>1363</td>\n",
       "      <td>54</td>\n",
       "      <td>3900</td>\n",
       "      <td>122</td>\n",
       "      <td>...</td>\n",
       "      <td>387</td>\n",
       "      <td>197</td>\n",
       "      <td>61</td>\n",
       "      <td>0.0</td>\n",
       "      <td>25.0</td>\n",
       "      <td>0.0</td>\n",
       "      <td>8.0</td>\n",
       "      <td>33.0</td>\n",
       "      <td>0.0</td>\n",
       "      <td>31.0</td>\n",
       "    </tr>\n",
       "    <tr>\n",
       "      <th>677</th>\n",
       "      <td>2/12/2021</td>\n",
       "      <td>5806</td>\n",
       "      <td>11</td>\n",
       "      <td>7246</td>\n",
       "      <td>62099</td>\n",
       "      <td>339</td>\n",
       "      <td>1325</td>\n",
       "      <td>40</td>\n",
       "      <td>4271</td>\n",
       "      <td>170</td>\n",
       "      <td>...</td>\n",
       "      <td>410</td>\n",
       "      <td>174</td>\n",
       "      <td>59</td>\n",
       "      <td>0.0</td>\n",
       "      <td>14.0</td>\n",
       "      <td>2.0</td>\n",
       "      <td>13.0</td>\n",
       "      <td>148.0</td>\n",
       "      <td>52.0</td>\n",
       "      <td>110.0</td>\n",
       "    </tr>\n",
       "    <tr>\n",
       "      <th>678</th>\n",
       "      <td>3/12/2021</td>\n",
       "      <td>5551</td>\n",
       "      <td>23</td>\n",
       "      <td>5301</td>\n",
       "      <td>62303</td>\n",
       "      <td>179</td>\n",
       "      <td>1312</td>\n",
       "      <td>46</td>\n",
       "      <td>4046</td>\n",
       "      <td>147</td>\n",
       "      <td>...</td>\n",
       "      <td>411</td>\n",
       "      <td>167</td>\n",
       "      <td>48</td>\n",
       "      <td>0.0</td>\n",
       "      <td>6.0</td>\n",
       "      <td>0.0</td>\n",
       "      <td>3.0</td>\n",
       "      <td>104.0</td>\n",
       "      <td>0.0</td>\n",
       "      <td>66.0</td>\n",
       "    </tr>\n",
       "    <tr>\n",
       "      <th>679</th>\n",
       "      <td>4/12/2021</td>\n",
       "      <td>4896</td>\n",
       "      <td>18</td>\n",
       "      <td>4676</td>\n",
       "      <td>62481</td>\n",
       "      <td>159</td>\n",
       "      <td>1143</td>\n",
       "      <td>56</td>\n",
       "      <td>3529</td>\n",
       "      <td>168</td>\n",
       "      <td>...</td>\n",
       "      <td>327</td>\n",
       "      <td>158</td>\n",
       "      <td>52</td>\n",
       "      <td>0.0</td>\n",
       "      <td>3.0</td>\n",
       "      <td>1.0</td>\n",
       "      <td>22.0</td>\n",
       "      <td>52.0</td>\n",
       "      <td>0.0</td>\n",
       "      <td>81.0</td>\n",
       "    </tr>\n",
       "  </tbody>\n",
       "</table>\n",
       "<p>680 rows × 31 columns</p>\n",
       "</div>"
      ],
      "text/plain": [
       "           date cases_new  cases_import  cases_recovered  cases_active  \\\n",
       "0     25/1/2020         4             4                0             4   \n",
       "1     26/1/2020         0             0                0             4   \n",
       "2     27/1/2020         0             0                0             4   \n",
       "3     28/1/2020         0             0                0             4   \n",
       "4     29/1/2020         3             3                0             7   \n",
       "..          ...       ...           ...              ...           ...   \n",
       "675  30/11/2021      4879            24             5168         64978   \n",
       "676   1/12/2021      5439            21             6803         63583   \n",
       "677   2/12/2021      5806            11             7246         62099   \n",
       "678   3/12/2021      5551            23             5301         62303   \n",
       "679   4/12/2021      4896            18             4676         62481   \n",
       "\n",
       "     cases_cluster  cases_unvax  cases_pvax  cases_fvax  cases_boost  ...  \\\n",
       "0                0            4           0           0            0  ...   \n",
       "1                0            0           0           0            0  ...   \n",
       "2                0            0           0           0            0  ...   \n",
       "3                0            0           0           0            0  ...   \n",
       "4                0            3           0           0            0  ...   \n",
       "..             ...          ...         ...         ...          ...  ...   \n",
       "675             97         1125          55        3595          104  ...   \n",
       "676            110         1363          54        3900          122  ...   \n",
       "677            339         1325          40        4271          170  ...   \n",
       "678            179         1312          46        4046          147  ...   \n",
       "679            159         1143          56        3529          168  ...   \n",
       "\n",
       "     cases_60_69  cases_70_79  cases_80  cluster_import  cluster_religious  \\\n",
       "0              0            0         0             NaN                NaN   \n",
       "1              0            0         0             NaN                NaN   \n",
       "2              0            0         0             NaN                NaN   \n",
       "3              0            0         0             NaN                NaN   \n",
       "4              0            0         0             NaN                NaN   \n",
       "..           ...          ...       ...             ...                ...   \n",
       "675          358          165        60             0.0               25.0   \n",
       "676          387          197        61             0.0               25.0   \n",
       "677          410          174        59             0.0               14.0   \n",
       "678          411          167        48             0.0                6.0   \n",
       "679          327          158        52             0.0                3.0   \n",
       "\n",
       "     cluster_community  cluster_highRisk  cluster_education  \\\n",
       "0                  NaN               NaN                NaN   \n",
       "1                  NaN               NaN                NaN   \n",
       "2                  NaN               NaN                NaN   \n",
       "3                  NaN               NaN                NaN   \n",
       "4                  NaN               NaN                NaN   \n",
       "..                 ...               ...                ...   \n",
       "675                0.0              28.0               33.0   \n",
       "676                0.0               8.0               33.0   \n",
       "677                2.0              13.0              148.0   \n",
       "678                0.0               3.0              104.0   \n",
       "679                1.0              22.0               52.0   \n",
       "\n",
       "     cluster_detentionCentre  cluster_workplace  \n",
       "0                        NaN                NaN  \n",
       "1                        NaN                NaN  \n",
       "2                        NaN                NaN  \n",
       "3                        NaN                NaN  \n",
       "4                        NaN                NaN  \n",
       "..                       ...                ...  \n",
       "675                      0.0               31.0  \n",
       "676                      0.0               31.0  \n",
       "677                     52.0              110.0  \n",
       "678                      0.0               66.0  \n",
       "679                      0.0               81.0  \n",
       "\n",
       "[680 rows x 31 columns]"
      ]
     },
     "execution_count": 7,
     "metadata": {},
     "output_type": "execute_result"
    }
   ],
   "source": [
    "df_train = pd.read_csv(DATA_PATH_TRAIN)\n",
    "df_train"
   ]
  },
  {
   "cell_type": "code",
   "execution_count": 8,
   "metadata": {},
   "outputs": [
    {
     "data": {
      "text/html": [
       "<div>\n",
       "<style scoped>\n",
       "    .dataframe tbody tr th:only-of-type {\n",
       "        vertical-align: middle;\n",
       "    }\n",
       "\n",
       "    .dataframe tbody tr th {\n",
       "        vertical-align: top;\n",
       "    }\n",
       "\n",
       "    .dataframe thead th {\n",
       "        text-align: right;\n",
       "    }\n",
       "</style>\n",
       "<table border=\"1\" class=\"dataframe\">\n",
       "  <thead>\n",
       "    <tr style=\"text-align: right;\">\n",
       "      <th></th>\n",
       "      <th>date</th>\n",
       "      <th>cases_new</th>\n",
       "      <th>cases_import</th>\n",
       "      <th>cases_recovered</th>\n",
       "      <th>cases_active</th>\n",
       "      <th>cases_cluster</th>\n",
       "      <th>cases_unvax</th>\n",
       "      <th>cases_pvax</th>\n",
       "      <th>cases_fvax</th>\n",
       "      <th>cases_boost</th>\n",
       "      <th>...</th>\n",
       "      <th>cases_60_69</th>\n",
       "      <th>cases_70_79</th>\n",
       "      <th>cases_80</th>\n",
       "      <th>cluster_import</th>\n",
       "      <th>cluster_religious</th>\n",
       "      <th>cluster_community</th>\n",
       "      <th>cluster_highRisk</th>\n",
       "      <th>cluster_education</th>\n",
       "      <th>cluster_detentionCentre</th>\n",
       "      <th>cluster_workplace</th>\n",
       "    </tr>\n",
       "  </thead>\n",
       "  <tbody>\n",
       "    <tr>\n",
       "      <th>0</th>\n",
       "      <td>5/12/2021</td>\n",
       "      <td>4298.0</td>\n",
       "      <td>23</td>\n",
       "      <td>4928</td>\n",
       "      <td>61813</td>\n",
       "      <td>136</td>\n",
       "      <td>1017</td>\n",
       "      <td>38</td>\n",
       "      <td>3093</td>\n",
       "      <td>150</td>\n",
       "      <td>...</td>\n",
       "      <td>330</td>\n",
       "      <td>130</td>\n",
       "      <td>49</td>\n",
       "      <td>0</td>\n",
       "      <td>13</td>\n",
       "      <td>3</td>\n",
       "      <td>12</td>\n",
       "      <td>69</td>\n",
       "      <td>0</td>\n",
       "      <td>39</td>\n",
       "    </tr>\n",
       "    <tr>\n",
       "      <th>1</th>\n",
       "      <td>6/12/2021</td>\n",
       "      <td>4262.0</td>\n",
       "      <td>15</td>\n",
       "      <td>5894</td>\n",
       "      <td>60139</td>\n",
       "      <td>97</td>\n",
       "      <td>1036</td>\n",
       "      <td>39</td>\n",
       "      <td>3056</td>\n",
       "      <td>131</td>\n",
       "      <td>...</td>\n",
       "      <td>352</td>\n",
       "      <td>141</td>\n",
       "      <td>49</td>\n",
       "      <td>0</td>\n",
       "      <td>10</td>\n",
       "      <td>0</td>\n",
       "      <td>2</td>\n",
       "      <td>30</td>\n",
       "      <td>0</td>\n",
       "      <td>55</td>\n",
       "    </tr>\n",
       "    <tr>\n",
       "      <th>2</th>\n",
       "      <td>7/12/2021</td>\n",
       "      <td>4965.0</td>\n",
       "      <td>29</td>\n",
       "      <td>4817</td>\n",
       "      <td>60251</td>\n",
       "      <td>138</td>\n",
       "      <td>1130</td>\n",
       "      <td>46</td>\n",
       "      <td>3642</td>\n",
       "      <td>147</td>\n",
       "      <td>...</td>\n",
       "      <td>395</td>\n",
       "      <td>169</td>\n",
       "      <td>81</td>\n",
       "      <td>0</td>\n",
       "      <td>3</td>\n",
       "      <td>13</td>\n",
       "      <td>39</td>\n",
       "      <td>36</td>\n",
       "      <td>0</td>\n",
       "      <td>47</td>\n",
       "    </tr>\n",
       "    <tr>\n",
       "      <th>3</th>\n",
       "      <td>8/12/2021</td>\n",
       "      <td>5020.0</td>\n",
       "      <td>17</td>\n",
       "      <td>4525</td>\n",
       "      <td>60709</td>\n",
       "      <td>154</td>\n",
       "      <td>1162</td>\n",
       "      <td>41</td>\n",
       "      <td>3674</td>\n",
       "      <td>143</td>\n",
       "      <td>...</td>\n",
       "      <td>378</td>\n",
       "      <td>154</td>\n",
       "      <td>43</td>\n",
       "      <td>0</td>\n",
       "      <td>2</td>\n",
       "      <td>3</td>\n",
       "      <td>0</td>\n",
       "      <td>32</td>\n",
       "      <td>1</td>\n",
       "      <td>116</td>\n",
       "    </tr>\n",
       "    <tr>\n",
       "      <th>4</th>\n",
       "      <td>9/12/2021</td>\n",
       "      <td>5446.0</td>\n",
       "      <td>20</td>\n",
       "      <td>5427</td>\n",
       "      <td>60700</td>\n",
       "      <td>367</td>\n",
       "      <td>1207</td>\n",
       "      <td>53</td>\n",
       "      <td>4034</td>\n",
       "      <td>152</td>\n",
       "      <td>...</td>\n",
       "      <td>367</td>\n",
       "      <td>161</td>\n",
       "      <td>46</td>\n",
       "      <td>0</td>\n",
       "      <td>0</td>\n",
       "      <td>1</td>\n",
       "      <td>8</td>\n",
       "      <td>153</td>\n",
       "      <td>0</td>\n",
       "      <td>205</td>\n",
       "    </tr>\n",
       "    <tr>\n",
       "      <th>...</th>\n",
       "      <td>...</td>\n",
       "      <td>...</td>\n",
       "      <td>...</td>\n",
       "      <td>...</td>\n",
       "      <td>...</td>\n",
       "      <td>...</td>\n",
       "      <td>...</td>\n",
       "      <td>...</td>\n",
       "      <td>...</td>\n",
       "      <td>...</td>\n",
       "      <td>...</td>\n",
       "      <td>...</td>\n",
       "      <td>...</td>\n",
       "      <td>...</td>\n",
       "      <td>...</td>\n",
       "      <td>...</td>\n",
       "      <td>...</td>\n",
       "      <td>...</td>\n",
       "      <td>...</td>\n",
       "      <td>...</td>\n",
       "      <td>...</td>\n",
       "    </tr>\n",
       "    <tr>\n",
       "      <th>95</th>\n",
       "      <td>10/3/2022</td>\n",
       "      <td>30787.0</td>\n",
       "      <td>608</td>\n",
       "      <td>26457</td>\n",
       "      <td>314211</td>\n",
       "      <td>282</td>\n",
       "      <td>4454</td>\n",
       "      <td>663</td>\n",
       "      <td>9118</td>\n",
       "      <td>16552</td>\n",
       "      <td>...</td>\n",
       "      <td>1851</td>\n",
       "      <td>905</td>\n",
       "      <td>336</td>\n",
       "      <td>0</td>\n",
       "      <td>0</td>\n",
       "      <td>1</td>\n",
       "      <td>14</td>\n",
       "      <td>153</td>\n",
       "      <td>18</td>\n",
       "      <td>96</td>\n",
       "    </tr>\n",
       "    <tr>\n",
       "      <th>96</th>\n",
       "      <td>11/3/2022</td>\n",
       "      <td>32800.0</td>\n",
       "      <td>541</td>\n",
       "      <td>24444</td>\n",
       "      <td>322507</td>\n",
       "      <td>309</td>\n",
       "      <td>4782</td>\n",
       "      <td>773</td>\n",
       "      <td>9122</td>\n",
       "      <td>18123</td>\n",
       "      <td>...</td>\n",
       "      <td>2060</td>\n",
       "      <td>927</td>\n",
       "      <td>361</td>\n",
       "      <td>0</td>\n",
       "      <td>0</td>\n",
       "      <td>3</td>\n",
       "      <td>42</td>\n",
       "      <td>97</td>\n",
       "      <td>58</td>\n",
       "      <td>109</td>\n",
       "    </tr>\n",
       "    <tr>\n",
       "      <th>97</th>\n",
       "      <td>12/3/2022</td>\n",
       "      <td>26250.0</td>\n",
       "      <td>545</td>\n",
       "      <td>25089</td>\n",
       "      <td>323618</td>\n",
       "      <td>269</td>\n",
       "      <td>3569</td>\n",
       "      <td>707</td>\n",
       "      <td>7151</td>\n",
       "      <td>14823</td>\n",
       "      <td>...</td>\n",
       "      <td>1724</td>\n",
       "      <td>788</td>\n",
       "      <td>302</td>\n",
       "      <td>0</td>\n",
       "      <td>0</td>\n",
       "      <td>3</td>\n",
       "      <td>42</td>\n",
       "      <td>97</td>\n",
       "      <td>58</td>\n",
       "      <td>109</td>\n",
       "    </tr>\n",
       "    <tr>\n",
       "      <th>98</th>\n",
       "      <td>13/3/2022</td>\n",
       "      <td>22535.0</td>\n",
       "      <td>361</td>\n",
       "      <td>25356</td>\n",
       "      <td>320785</td>\n",
       "      <td>163</td>\n",
       "      <td>3222</td>\n",
       "      <td>505</td>\n",
       "      <td>6057</td>\n",
       "      <td>12751</td>\n",
       "      <td>...</td>\n",
       "      <td>1448</td>\n",
       "      <td>700</td>\n",
       "      <td>288</td>\n",
       "      <td>0</td>\n",
       "      <td>0</td>\n",
       "      <td>7</td>\n",
       "      <td>40</td>\n",
       "      <td>8</td>\n",
       "      <td>61</td>\n",
       "      <td>153</td>\n",
       "    </tr>\n",
       "    <tr>\n",
       "      <th>99</th>\n",
       "      <td>14/3/2022</td>\n",
       "      <td>22030.0</td>\n",
       "      <td>394</td>\n",
       "      <td>33872</td>\n",
       "      <td>308943</td>\n",
       "      <td>180</td>\n",
       "      <td>3133</td>\n",
       "      <td>549</td>\n",
       "      <td>5828</td>\n",
       "      <td>12520</td>\n",
       "      <td>...</td>\n",
       "      <td>1339</td>\n",
       "      <td>677</td>\n",
       "      <td>295</td>\n",
       "      <td>0</td>\n",
       "      <td>0</td>\n",
       "      <td>3</td>\n",
       "      <td>7</td>\n",
       "      <td>56</td>\n",
       "      <td>10</td>\n",
       "      <td>104</td>\n",
       "    </tr>\n",
       "  </tbody>\n",
       "</table>\n",
       "<p>100 rows × 31 columns</p>\n",
       "</div>"
      ],
      "text/plain": [
       "         date  cases_new  cases_import  cases_recovered  cases_active  \\\n",
       "0   5/12/2021     4298.0            23             4928         61813   \n",
       "1   6/12/2021     4262.0            15             5894         60139   \n",
       "2   7/12/2021     4965.0            29             4817         60251   \n",
       "3   8/12/2021     5020.0            17             4525         60709   \n",
       "4   9/12/2021     5446.0            20             5427         60700   \n",
       "..        ...        ...           ...              ...           ...   \n",
       "95  10/3/2022    30787.0           608            26457        314211   \n",
       "96  11/3/2022    32800.0           541            24444        322507   \n",
       "97  12/3/2022    26250.0           545            25089        323618   \n",
       "98  13/3/2022    22535.0           361            25356        320785   \n",
       "99  14/3/2022    22030.0           394            33872        308943   \n",
       "\n",
       "    cases_cluster  cases_unvax  cases_pvax  cases_fvax  cases_boost  ...  \\\n",
       "0             136         1017          38        3093          150  ...   \n",
       "1              97         1036          39        3056          131  ...   \n",
       "2             138         1130          46        3642          147  ...   \n",
       "3             154         1162          41        3674          143  ...   \n",
       "4             367         1207          53        4034          152  ...   \n",
       "..            ...          ...         ...         ...          ...  ...   \n",
       "95            282         4454         663        9118        16552  ...   \n",
       "96            309         4782         773        9122        18123  ...   \n",
       "97            269         3569         707        7151        14823  ...   \n",
       "98            163         3222         505        6057        12751  ...   \n",
       "99            180         3133         549        5828        12520  ...   \n",
       "\n",
       "    cases_60_69  cases_70_79  cases_80  cluster_import  cluster_religious  \\\n",
       "0           330          130        49               0                 13   \n",
       "1           352          141        49               0                 10   \n",
       "2           395          169        81               0                  3   \n",
       "3           378          154        43               0                  2   \n",
       "4           367          161        46               0                  0   \n",
       "..          ...          ...       ...             ...                ...   \n",
       "95         1851          905       336               0                  0   \n",
       "96         2060          927       361               0                  0   \n",
       "97         1724          788       302               0                  0   \n",
       "98         1448          700       288               0                  0   \n",
       "99         1339          677       295               0                  0   \n",
       "\n",
       "    cluster_community  cluster_highRisk  cluster_education  \\\n",
       "0                   3                12                 69   \n",
       "1                   0                 2                 30   \n",
       "2                  13                39                 36   \n",
       "3                   3                 0                 32   \n",
       "4                   1                 8                153   \n",
       "..                ...               ...                ...   \n",
       "95                  1                14                153   \n",
       "96                  3                42                 97   \n",
       "97                  3                42                 97   \n",
       "98                  7                40                  8   \n",
       "99                  3                 7                 56   \n",
       "\n",
       "    cluster_detentionCentre  cluster_workplace  \n",
       "0                         0                 39  \n",
       "1                         0                 55  \n",
       "2                         0                 47  \n",
       "3                         1                116  \n",
       "4                         0                205  \n",
       "..                      ...                ...  \n",
       "95                       18                 96  \n",
       "96                       58                109  \n",
       "97                       58                109  \n",
       "98                       61                153  \n",
       "99                       10                104  \n",
       "\n",
       "[100 rows x 31 columns]"
      ]
     },
     "execution_count": 8,
     "metadata": {},
     "output_type": "execute_result"
    }
   ],
   "source": [
    "df_test = pd.read_csv(DATA_PATH_TEST)\n",
    "df_test"
   ]
  },
  {
   "cell_type": "markdown",
   "metadata": {},
   "source": [
    "## general infos"
   ]
  },
  {
   "cell_type": "code",
   "execution_count": 9,
   "metadata": {},
   "outputs": [
    {
     "name": "stdout",
     "output_type": "stream",
     "text": [
      "<class 'pandas.core.frame.DataFrame'>\n",
      "RangeIndex: 680 entries, 0 to 679\n",
      "Data columns (total 31 columns):\n",
      " #   Column                   Non-Null Count  Dtype  \n",
      "---  ------                   --------------  -----  \n",
      " 0   date                     680 non-null    object \n",
      " 1   cases_new                680 non-null    object \n",
      " 2   cases_import             680 non-null    int64  \n",
      " 3   cases_recovered          680 non-null    int64  \n",
      " 4   cases_active             680 non-null    int64  \n",
      " 5   cases_cluster            680 non-null    int64  \n",
      " 6   cases_unvax              680 non-null    int64  \n",
      " 7   cases_pvax               680 non-null    int64  \n",
      " 8   cases_fvax               680 non-null    int64  \n",
      " 9   cases_boost              680 non-null    int64  \n",
      " 10  cases_child              680 non-null    int64  \n",
      " 11  cases_adolescent         680 non-null    int64  \n",
      " 12  cases_adult              680 non-null    int64  \n",
      " 13  cases_elderly            680 non-null    int64  \n",
      " 14  cases_0_4                680 non-null    int64  \n",
      " 15  cases_5_11               680 non-null    int64  \n",
      " 16  cases_12_17              680 non-null    int64  \n",
      " 17  cases_18_29              680 non-null    int64  \n",
      " 18  cases_30_39              680 non-null    int64  \n",
      " 19  cases_40_49              680 non-null    int64  \n",
      " 20  cases_50_59              680 non-null    int64  \n",
      " 21  cases_60_69              680 non-null    int64  \n",
      " 22  cases_70_79              680 non-null    int64  \n",
      " 23  cases_80                 680 non-null    int64  \n",
      " 24  cluster_import           338 non-null    float64\n",
      " 25  cluster_religious        338 non-null    float64\n",
      " 26  cluster_community        338 non-null    float64\n",
      " 27  cluster_highRisk         338 non-null    float64\n",
      " 28  cluster_education        338 non-null    float64\n",
      " 29  cluster_detentionCentre  338 non-null    float64\n",
      " 30  cluster_workplace        338 non-null    float64\n",
      "dtypes: float64(7), int64(22), object(2)\n",
      "memory usage: 164.8+ KB\n"
     ]
    }
   ],
   "source": [
    "df_train.info()"
   ]
  },
  {
   "cell_type": "code",
   "execution_count": 10,
   "metadata": {},
   "outputs": [
    {
     "name": "stdout",
     "output_type": "stream",
     "text": [
      "<class 'pandas.core.frame.DataFrame'>\n",
      "RangeIndex: 100 entries, 0 to 99\n",
      "Data columns (total 31 columns):\n",
      " #   Column                   Non-Null Count  Dtype  \n",
      "---  ------                   --------------  -----  \n",
      " 0   date                     100 non-null    object \n",
      " 1   cases_new                99 non-null     float64\n",
      " 2   cases_import             100 non-null    int64  \n",
      " 3   cases_recovered          100 non-null    int64  \n",
      " 4   cases_active             100 non-null    int64  \n",
      " 5   cases_cluster            100 non-null    int64  \n",
      " 6   cases_unvax              100 non-null    int64  \n",
      " 7   cases_pvax               100 non-null    int64  \n",
      " 8   cases_fvax               100 non-null    int64  \n",
      " 9   cases_boost              100 non-null    int64  \n",
      " 10  cases_child              100 non-null    int64  \n",
      " 11  cases_adolescent         100 non-null    int64  \n",
      " 12  cases_adult              100 non-null    int64  \n",
      " 13  cases_elderly            100 non-null    int64  \n",
      " 14  cases_0_4                100 non-null    int64  \n",
      " 15  cases_5_11               100 non-null    int64  \n",
      " 16  cases_12_17              100 non-null    int64  \n",
      " 17  cases_18_29              100 non-null    int64  \n",
      " 18  cases_30_39              100 non-null    int64  \n",
      " 19  cases_40_49              100 non-null    int64  \n",
      " 20  cases_50_59              100 non-null    int64  \n",
      " 21  cases_60_69              100 non-null    int64  \n",
      " 22  cases_70_79              100 non-null    int64  \n",
      " 23  cases_80                 100 non-null    int64  \n",
      " 24  cluster_import           100 non-null    int64  \n",
      " 25  cluster_religious        100 non-null    int64  \n",
      " 26  cluster_community        100 non-null    int64  \n",
      " 27  cluster_highRisk         100 non-null    int64  \n",
      " 28  cluster_education        100 non-null    int64  \n",
      " 29  cluster_detentionCentre  100 non-null    int64  \n",
      " 30  cluster_workplace        100 non-null    int64  \n",
      "dtypes: float64(1), int64(29), object(1)\n",
      "memory usage: 24.3+ KB\n"
     ]
    }
   ],
   "source": [
    "df_test.info()"
   ]
  },
  {
   "cell_type": "markdown",
   "metadata": {},
   "source": [
    "# Data wrangling"
   ]
  },
  {
   "cell_type": "markdown",
   "metadata": {},
   "source": [
    "## change date to datetime format"
   ]
  },
  {
   "cell_type": "code",
   "execution_count": 11,
   "metadata": {},
   "outputs": [
    {
     "name": "stdout",
     "output_type": "stream",
     "text": [
      "<class 'pandas.core.frame.DataFrame'>\n",
      "RangeIndex: 680 entries, 0 to 679\n",
      "Data columns (total 31 columns):\n",
      " #   Column                   Non-Null Count  Dtype         \n",
      "---  ------                   --------------  -----         \n",
      " 0   date                     680 non-null    datetime64[ns]\n",
      " 1   cases_new                680 non-null    object        \n",
      " 2   cases_import             680 non-null    int64         \n",
      " 3   cases_recovered          680 non-null    int64         \n",
      " 4   cases_active             680 non-null    int64         \n",
      " 5   cases_cluster            680 non-null    int64         \n",
      " 6   cases_unvax              680 non-null    int64         \n",
      " 7   cases_pvax               680 non-null    int64         \n",
      " 8   cases_fvax               680 non-null    int64         \n",
      " 9   cases_boost              680 non-null    int64         \n",
      " 10  cases_child              680 non-null    int64         \n",
      " 11  cases_adolescent         680 non-null    int64         \n",
      " 12  cases_adult              680 non-null    int64         \n",
      " 13  cases_elderly            680 non-null    int64         \n",
      " 14  cases_0_4                680 non-null    int64         \n",
      " 15  cases_5_11               680 non-null    int64         \n",
      " 16  cases_12_17              680 non-null    int64         \n",
      " 17  cases_18_29              680 non-null    int64         \n",
      " 18  cases_30_39              680 non-null    int64         \n",
      " 19  cases_40_49              680 non-null    int64         \n",
      " 20  cases_50_59              680 non-null    int64         \n",
      " 21  cases_60_69              680 non-null    int64         \n",
      " 22  cases_70_79              680 non-null    int64         \n",
      " 23  cases_80                 680 non-null    int64         \n",
      " 24  cluster_import           338 non-null    float64       \n",
      " 25  cluster_religious        338 non-null    float64       \n",
      " 26  cluster_community        338 non-null    float64       \n",
      " 27  cluster_highRisk         338 non-null    float64       \n",
      " 28  cluster_education        338 non-null    float64       \n",
      " 29  cluster_detentionCentre  338 non-null    float64       \n",
      " 30  cluster_workplace        338 non-null    float64       \n",
      "dtypes: datetime64[ns](1), float64(7), int64(22), object(1)\n",
      "memory usage: 164.8+ KB\n"
     ]
    }
   ],
   "source": [
    "df_train['date'] = pd.to_datetime(df_train['date'], format='%d/%m/%Y')\n",
    "df_train.info()"
   ]
  },
  {
   "cell_type": "code",
   "execution_count": 12,
   "metadata": {},
   "outputs": [
    {
     "name": "stdout",
     "output_type": "stream",
     "text": [
      "<class 'pandas.core.frame.DataFrame'>\n",
      "RangeIndex: 100 entries, 0 to 99\n",
      "Data columns (total 31 columns):\n",
      " #   Column                   Non-Null Count  Dtype         \n",
      "---  ------                   --------------  -----         \n",
      " 0   date                     100 non-null    datetime64[ns]\n",
      " 1   cases_new                99 non-null     float64       \n",
      " 2   cases_import             100 non-null    int64         \n",
      " 3   cases_recovered          100 non-null    int64         \n",
      " 4   cases_active             100 non-null    int64         \n",
      " 5   cases_cluster            100 non-null    int64         \n",
      " 6   cases_unvax              100 non-null    int64         \n",
      " 7   cases_pvax               100 non-null    int64         \n",
      " 8   cases_fvax               100 non-null    int64         \n",
      " 9   cases_boost              100 non-null    int64         \n",
      " 10  cases_child              100 non-null    int64         \n",
      " 11  cases_adolescent         100 non-null    int64         \n",
      " 12  cases_adult              100 non-null    int64         \n",
      " 13  cases_elderly            100 non-null    int64         \n",
      " 14  cases_0_4                100 non-null    int64         \n",
      " 15  cases_5_11               100 non-null    int64         \n",
      " 16  cases_12_17              100 non-null    int64         \n",
      " 17  cases_18_29              100 non-null    int64         \n",
      " 18  cases_30_39              100 non-null    int64         \n",
      " 19  cases_40_49              100 non-null    int64         \n",
      " 20  cases_50_59              100 non-null    int64         \n",
      " 21  cases_60_69              100 non-null    int64         \n",
      " 22  cases_70_79              100 non-null    int64         \n",
      " 23  cases_80                 100 non-null    int64         \n",
      " 24  cluster_import           100 non-null    int64         \n",
      " 25  cluster_religious        100 non-null    int64         \n",
      " 26  cluster_community        100 non-null    int64         \n",
      " 27  cluster_highRisk         100 non-null    int64         \n",
      " 28  cluster_education        100 non-null    int64         \n",
      " 29  cluster_detentionCentre  100 non-null    int64         \n",
      " 30  cluster_workplace        100 non-null    int64         \n",
      "dtypes: datetime64[ns](1), float64(1), int64(29)\n",
      "memory usage: 24.3 KB\n"
     ]
    }
   ],
   "source": [
    "df_test['date'] = pd.to_datetime(df_test['date'], format='%d/%m/%Y')\n",
    "df_test.info()"
   ]
  },
  {
   "cell_type": "markdown",
   "metadata": {},
   "source": [
    "## change from 'object' data type to 'numeric' data type (for 'cases_new' column in df_train)"
   ]
  },
  {
   "cell_type": "code",
   "execution_count": 13,
   "metadata": {},
   "outputs": [
    {
     "name": "stdout",
     "output_type": "stream",
     "text": [
      "<class 'pandas.core.frame.DataFrame'>\n",
      "RangeIndex: 680 entries, 0 to 679\n",
      "Data columns (total 31 columns):\n",
      " #   Column                   Non-Null Count  Dtype         \n",
      "---  ------                   --------------  -----         \n",
      " 0   date                     680 non-null    datetime64[ns]\n",
      " 1   cases_new                668 non-null    float64       \n",
      " 2   cases_import             680 non-null    int64         \n",
      " 3   cases_recovered          680 non-null    int64         \n",
      " 4   cases_active             680 non-null    int64         \n",
      " 5   cases_cluster            680 non-null    int64         \n",
      " 6   cases_unvax              680 non-null    int64         \n",
      " 7   cases_pvax               680 non-null    int64         \n",
      " 8   cases_fvax               680 non-null    int64         \n",
      " 9   cases_boost              680 non-null    int64         \n",
      " 10  cases_child              680 non-null    int64         \n",
      " 11  cases_adolescent         680 non-null    int64         \n",
      " 12  cases_adult              680 non-null    int64         \n",
      " 13  cases_elderly            680 non-null    int64         \n",
      " 14  cases_0_4                680 non-null    int64         \n",
      " 15  cases_5_11               680 non-null    int64         \n",
      " 16  cases_12_17              680 non-null    int64         \n",
      " 17  cases_18_29              680 non-null    int64         \n",
      " 18  cases_30_39              680 non-null    int64         \n",
      " 19  cases_40_49              680 non-null    int64         \n",
      " 20  cases_50_59              680 non-null    int64         \n",
      " 21  cases_60_69              680 non-null    int64         \n",
      " 22  cases_70_79              680 non-null    int64         \n",
      " 23  cases_80                 680 non-null    int64         \n",
      " 24  cluster_import           338 non-null    float64       \n",
      " 25  cluster_religious        338 non-null    float64       \n",
      " 26  cluster_community        338 non-null    float64       \n",
      " 27  cluster_highRisk         338 non-null    float64       \n",
      " 28  cluster_education        338 non-null    float64       \n",
      " 29  cluster_detentionCentre  338 non-null    float64       \n",
      " 30  cluster_workplace        338 non-null    float64       \n",
      "dtypes: datetime64[ns](1), float64(8), int64(22)\n",
      "memory usage: 164.8 KB\n"
     ]
    }
   ],
   "source": [
    "df_train['cases_new'] = pd.to_numeric(df_train['cases_new'], errors='coerce')\n",
    "df_train.info()"
   ]
  },
  {
   "cell_type": "markdown",
   "metadata": {},
   "source": [
    "## interpolation "
   ]
  },
  {
   "cell_type": "markdown",
   "metadata": {},
   "source": [
    "### for train data"
   ]
  },
  {
   "cell_type": "code",
   "execution_count": 14,
   "metadata": {},
   "outputs": [
    {
     "name": "stdout",
     "output_type": "stream",
     "text": [
      "<class 'pandas.core.frame.DataFrame'>\n",
      "RangeIndex: 680 entries, 0 to 679\n",
      "Data columns (total 31 columns):\n",
      " #   Column                   Non-Null Count  Dtype         \n",
      "---  ------                   --------------  -----         \n",
      " 0   date                     680 non-null    datetime64[ns]\n",
      " 1   cases_new                680 non-null    float64       \n",
      " 2   cases_import             680 non-null    int64         \n",
      " 3   cases_recovered          680 non-null    int64         \n",
      " 4   cases_active             680 non-null    int64         \n",
      " 5   cases_cluster            680 non-null    int64         \n",
      " 6   cases_unvax              680 non-null    int64         \n",
      " 7   cases_pvax               680 non-null    int64         \n",
      " 8   cases_fvax               680 non-null    int64         \n",
      " 9   cases_boost              680 non-null    int64         \n",
      " 10  cases_child              680 non-null    int64         \n",
      " 11  cases_adolescent         680 non-null    int64         \n",
      " 12  cases_adult              680 non-null    int64         \n",
      " 13  cases_elderly            680 non-null    int64         \n",
      " 14  cases_0_4                680 non-null    int64         \n",
      " 15  cases_5_11               680 non-null    int64         \n",
      " 16  cases_12_17              680 non-null    int64         \n",
      " 17  cases_18_29              680 non-null    int64         \n",
      " 18  cases_30_39              680 non-null    int64         \n",
      " 19  cases_40_49              680 non-null    int64         \n",
      " 20  cases_50_59              680 non-null    int64         \n",
      " 21  cases_60_69              680 non-null    int64         \n",
      " 22  cases_70_79              680 non-null    int64         \n",
      " 23  cases_80                 680 non-null    int64         \n",
      " 24  cluster_import           338 non-null    float64       \n",
      " 25  cluster_religious        338 non-null    float64       \n",
      " 26  cluster_community        338 non-null    float64       \n",
      " 27  cluster_highRisk         338 non-null    float64       \n",
      " 28  cluster_education        338 non-null    float64       \n",
      " 29  cluster_detentionCentre  338 non-null    float64       \n",
      " 30  cluster_workplace        338 non-null    float64       \n",
      "dtypes: datetime64[ns](1), float64(8), int64(22)\n",
      "memory usage: 164.8 KB\n"
     ]
    }
   ],
   "source": [
    "df_train['cases_new'] = df_train['cases_new'].interpolate(method='pad')\n",
    "df_train.info()"
   ]
  },
  {
   "cell_type": "markdown",
   "metadata": {},
   "source": [
    "### for test data"
   ]
  },
  {
   "cell_type": "code",
   "execution_count": 15,
   "metadata": {},
   "outputs": [
    {
     "name": "stdout",
     "output_type": "stream",
     "text": [
      "<class 'pandas.core.frame.DataFrame'>\n",
      "RangeIndex: 100 entries, 0 to 99\n",
      "Data columns (total 31 columns):\n",
      " #   Column                   Non-Null Count  Dtype         \n",
      "---  ------                   --------------  -----         \n",
      " 0   date                     100 non-null    datetime64[ns]\n",
      " 1   cases_new                100 non-null    float64       \n",
      " 2   cases_import             100 non-null    int64         \n",
      " 3   cases_recovered          100 non-null    int64         \n",
      " 4   cases_active             100 non-null    int64         \n",
      " 5   cases_cluster            100 non-null    int64         \n",
      " 6   cases_unvax              100 non-null    int64         \n",
      " 7   cases_pvax               100 non-null    int64         \n",
      " 8   cases_fvax               100 non-null    int64         \n",
      " 9   cases_boost              100 non-null    int64         \n",
      " 10  cases_child              100 non-null    int64         \n",
      " 11  cases_adolescent         100 non-null    int64         \n",
      " 12  cases_adult              100 non-null    int64         \n",
      " 13  cases_elderly            100 non-null    int64         \n",
      " 14  cases_0_4                100 non-null    int64         \n",
      " 15  cases_5_11               100 non-null    int64         \n",
      " 16  cases_12_17              100 non-null    int64         \n",
      " 17  cases_18_29              100 non-null    int64         \n",
      " 18  cases_30_39              100 non-null    int64         \n",
      " 19  cases_40_49              100 non-null    int64         \n",
      " 20  cases_50_59              100 non-null    int64         \n",
      " 21  cases_60_69              100 non-null    int64         \n",
      " 22  cases_70_79              100 non-null    int64         \n",
      " 23  cases_80                 100 non-null    int64         \n",
      " 24  cluster_import           100 non-null    int64         \n",
      " 25  cluster_religious        100 non-null    int64         \n",
      " 26  cluster_community        100 non-null    int64         \n",
      " 27  cluster_highRisk         100 non-null    int64         \n",
      " 28  cluster_education        100 non-null    int64         \n",
      " 29  cluster_detentionCentre  100 non-null    int64         \n",
      " 30  cluster_workplace        100 non-null    int64         \n",
      "dtypes: datetime64[ns](1), float64(1), int64(29)\n",
      "memory usage: 24.3 KB\n"
     ]
    }
   ],
   "source": [
    "df_test['cases_new'] = df_test['cases_new'].interpolate(method='pad')\n",
    "df_test.info()"
   ]
  },
  {
   "cell_type": "markdown",
   "metadata": {},
   "source": [
    "# Basic plotting of the data"
   ]
  },
  {
   "cell_type": "markdown",
   "metadata": {},
   "source": [
    "## train data"
   ]
  },
  {
   "cell_type": "code",
   "execution_count": 16,
   "metadata": {},
   "outputs": [
    {
     "data": {
      "image/png": "[encoded data removed]",
      "text/plain": [
       "<Figure size 720x360 with 1 Axes>"
      ]
     },
     "metadata": {
      "needs_background": "light"
     },
     "output_type": "display_data"
    }
   ],
   "source": [
    "fig, ax =plt.subplots(1, 1, figsize=(10, 5))\n",
    "df_train['cases_new'].plot.line(ax=ax)\n",
    "ax.set_title('Covid-19 Daily New Cases (Jan 2020 - Dec 2021)')\n",
    "ax.set_ylabel('new cases')\n",
    "ax.set_xlabel('days since 25 Jan 2020')\n",
    "plt.tight_layout()\n",
    "plt.show()"
   ]
  },
  {
   "cell_type": "markdown",
   "metadata": {},
   "source": [
    "## test data"
   ]
  },
  {
   "cell_type": "code",
   "execution_count": 17,
   "metadata": {},
   "outputs": [
    {
     "data": {
      "image/png": "[encoded data removed]",
      "text/plain": [
       "<Figure size 720x360 with 1 Axes>"
      ]
     },
     "metadata": {
      "needs_background": "light"
     },
     "output_type": "display_data"
    }
   ],
   "source": [
    "fig, ax =plt.subplots(1, 1, figsize=(10, 5))\n",
    "df_test['cases_new'].plot.line(ax=ax)\n",
    "ax.set_title('Covid-19 Daily New Cases (Dec 2021 - Mar 2022)')\n",
    "ax.set_ylabel('new cases')\n",
    "ax.set_xlabel('days since 5 Dec 2021')\n",
    "plt.tight_layout()\n",
    "plt.show()"
   ]
  },
  {
   "cell_type": "markdown",
   "metadata": {},
   "source": [
    "# Min-max scale the number of new cases"
   ]
  },
  {
   "cell_type": "markdown",
   "metadata": {},
   "source": [
    "## for train data"
   ]
  },
  {
   "cell_type": "code",
   "execution_count": 18,
   "metadata": {},
   "outputs": [
    {
     "data": {
      "text/plain": [
       "(680, 1)"
      ]
     },
     "execution_count": 18,
     "metadata": {},
     "output_type": "execute_result"
    }
   ],
   "source": [
    "mms = MinMaxScaler()\n",
    "\n",
    "cases_new_train = mms.fit_transform(df_train[['cases_new']])\n",
    "cases_new_train.shape"
   ]
  },
  {
   "cell_type": "markdown",
   "metadata": {},
   "source": [
    "## for test data"
   ]
  },
  {
   "cell_type": "code",
   "execution_count": 20,
   "metadata": {},
   "outputs": [
    {
     "data": {
      "text/plain": [
       "(100, 1)"
      ]
     },
     "execution_count": 20,
     "metadata": {},
     "output_type": "execute_result"
    }
   ],
   "source": [
    "cases_new_test = mms.transform(df_test[['cases_new']])\n",
    "cases_new_test.shape"
   ]
  },
  {
   "cell_type": "markdown",
   "metadata": {},
   "source": [
    "## save the min-max scaler"
   ]
  },
  {
   "cell_type": "code",
   "execution_count": 62,
   "metadata": {},
   "outputs": [],
   "source": [
    "with open(SCALER_PATH, 'wb') as file:\n",
    "    pickle.dump(mms, file)"
   ]
  },
  {
   "cell_type": "markdown",
   "metadata": {},
   "source": [
    "# Combine cases_new_train and cases_new_test for later usage"
   ]
  },
  {
   "cell_type": "code",
   "execution_count": 21,
   "metadata": {},
   "outputs": [
    {
     "data": {
      "text/plain": [
       "(130, 1)"
      ]
     },
     "execution_count": 21,
     "metadata": {},
     "output_type": "execute_result"
    }
   ],
   "source": [
    "to_be_concat = (cases_new_train, cases_new_test)\n",
    "cases_new_combined = np.concatenate(to_be_concat, axis=0)[-130: ]\n",
    "cases_new_combined.shape"
   ]
  },
  {
   "cell_type": "markdown",
   "metadata": {},
   "source": [
    "# Create features and target"
   ]
  },
  {
   "cell_type": "markdown",
   "metadata": {},
   "source": [
    "## for train data"
   ]
  },
  {
   "cell_type": "code",
   "execution_count": 22,
   "metadata": {},
   "outputs": [
    {
     "name": "stdout",
     "output_type": "stream",
     "text": [
      "(650, 30) (650,)\n"
     ]
    }
   ],
   "source": [
    "window_size = 30\n",
    "X_train = []\n",
    "y_train = []\n",
    "\n",
    "for i in range(window_size, cases_new_train.shape[0]):\n",
    "    X_train.append(cases_new_train[i-window_size: i, 0])\n",
    "    y_train.append(cases_new_train[i, 0])\n",
    "\n",
    "X_train = np.array(X_train)\n",
    "y_train = np.array(y_train)\n",
    "print(X_train.shape, y_train.shape)"
   ]
  },
  {
   "cell_type": "markdown",
   "metadata": {},
   "source": [
    "## for test data"
   ]
  },
  {
   "cell_type": "code",
   "execution_count": 23,
   "metadata": {},
   "outputs": [
    {
     "data": {
      "text/plain": [
       "(100, 30)"
      ]
     },
     "execution_count": 23,
     "metadata": {},
     "output_type": "execute_result"
    }
   ],
   "source": [
    "window_size = 30\n",
    "X_test = []\n",
    "\n",
    "for i in range(window_size, cases_new_combined.shape[0]):\n",
    "    X_test.append(cases_new_combined[i-window_size: i, 0])\n",
    "\n",
    "X_test = np.array(X_test)\n",
    "X_test.shape"
   ]
  },
  {
   "cell_type": "code",
   "execution_count": 24,
   "metadata": {},
   "outputs": [
    {
     "data": {
      "text/plain": [
       "(100, 1)"
      ]
     },
     "execution_count": 24,
     "metadata": {},
     "output_type": "execute_result"
    }
   ],
   "source": [
    "y_test = np.copy(cases_new_test)\n",
    "y_test.shape"
   ]
  },
  {
   "cell_type": "markdown",
   "metadata": {},
   "source": [
    "# Deep learning"
   ]
  },
  {
   "cell_type": "markdown",
   "metadata": {},
   "source": [
    "## create model"
   ]
  },
  {
   "cell_type": "code",
   "execution_count": 34,
   "metadata": {},
   "outputs": [],
   "source": [
    "input_shape = X_train.shape[-1]\n",
    "output_shape = 1\n",
    "drop_rate_1 = 0.3\n",
    "drop_rate_2 = 0.2\n",
    "n_lstm = 64\n",
    "\n",
    "input_1 = Input(shape=(input_shape, 1))\n",
    "\n",
    "hl_1 = LSTM(n_lstm, return_sequences=True)(input_1)\n",
    "hl_2 = Dropout(drop_rate_1)(hl_1)\n",
    "hl_3 = LSTM(n_lstm)(hl_2)\n",
    "hl_4 = Dropout(drop_rate_2)(hl_3)\n",
    "\n",
    "output_1 = Dense(output_shape, activation='selu', kernel_initializer='lecun_normal')(hl_4)\n",
    "\n",
    "model = Model(inputs=input_1, outputs=output_1)"
   ]
  },
  {
   "cell_type": "markdown",
   "metadata": {},
   "source": [
    "## model summary"
   ]
  },
  {
   "cell_type": "code",
   "execution_count": 26,
   "metadata": {},
   "outputs": [
    {
     "name": "stdout",
     "output_type": "stream",
     "text": [
      "Model: \"functional_1\"\n",
      "_________________________________________________________________\n",
      "Layer (type)                 Output Shape              Param #   \n",
      "=================================================================\n",
      "input_1 (InputLayer)         [(None, 30, 1)]           0         \n",
      "_________________________________________________________________\n",
      "lstm (LSTM)                  (None, 30, 64)            16896     \n",
      "_________________________________________________________________\n",
      "dropout (Dropout)            (None, 30, 64)            0         \n",
      "_________________________________________________________________\n",
      "lstm_1 (LSTM)                (None, 64)                33024     \n",
      "_________________________________________________________________\n",
      "dropout_1 (Dropout)          (None, 64)                0         \n",
      "_________________________________________________________________\n",
      "dense (Dense)                (None, 1)                 65        \n",
      "=================================================================\n",
      "Total params: 49,985\n",
      "Trainable params: 49,985\n",
      "Non-trainable params: 0\n",
      "_________________________________________________________________\n"
     ]
    }
   ],
   "source": [
    "model.summary()"
   ]
  },
  {
   "cell_type": "markdown",
   "metadata": {},
   "source": [
    "## model plot"
   ]
  },
  {
   "cell_type": "code",
   "execution_count": 466,
   "metadata": {},
   "outputs": [
    {
     "data": {
      "image/png": "[encoded data removed]",
      "text/plain": [
       "<IPython.core.display.Image object>"
      ]
     },
     "execution_count": 466,
     "metadata": {},
     "output_type": "execute_result"
    }
   ],
   "source": [
    "plot_model(model, show_shapes=True, show_layer_names=True)"
   ]
  },
  {
   "cell_type": "markdown",
   "metadata": {},
   "source": [
    "## compile model"
   ]
  },
  {
   "cell_type": "code",
   "execution_count": 35,
   "metadata": {},
   "outputs": [],
   "source": [
    "model.compile(optimizer='adam', \n",
    "              loss='mse', \n",
    "              metrics=[mean_absolute_percentage_error])"
   ]
  },
  {
   "cell_type": "markdown",
   "metadata": {},
   "source": [
    "## callbacks"
   ]
  },
  {
   "cell_type": "code",
   "execution_count": 36,
   "metadata": {},
   "outputs": [],
   "source": [
    "tensorboard_callback = TensorBoard(log_dir=LOG_PATH)\n",
    "early_stopping_callback = EarlyStopping(monitor='loss', patience=3, mode='min', verbose=1)"
   ]
  },
  {
   "cell_type": "markdown",
   "metadata": {},
   "source": [
    "## model fitting/training with History object"
   ]
  },
  {
   "cell_type": "code",
   "execution_count": 37,
   "metadata": {},
   "outputs": [
    {
     "name": "stdout",
     "output_type": "stream",
     "text": [
      "Epoch 1/100\n",
      " 2/10 [=====>........................] - ETA: 0s - loss: 0.0477 - mean_absolute_percentage_error: 677.6444WARNING:tensorflow:Callbacks method `on_train_batch_end` is slow compared to the batch time (batch time: 0.0226s vs `on_train_batch_end` time: 0.1534s). Check your callbacks.\n",
      "10/10 [==============================] - 0s 36ms/step - loss: 0.0290 - mean_absolute_percentage_error: 411770.6875\n",
      "Epoch 2/100\n",
      "10/10 [==============================] - 0s 19ms/step - loss: 0.0085 - mean_absolute_percentage_error: 381836.0000\n",
      "Epoch 3/100\n",
      "10/10 [==============================] - 0s 20ms/step - loss: 0.0057 - mean_absolute_percentage_error: 33151.8945\n",
      "Epoch 4/100\n",
      "10/10 [==============================] - 0s 19ms/step - loss: 0.0043 - mean_absolute_percentage_error: 68841.2734\n",
      "Epoch 5/100\n",
      "10/10 [==============================] - 0s 19ms/step - loss: 0.0038 - mean_absolute_percentage_error: 161001.2500\n",
      "Epoch 6/100\n",
      "10/10 [==============================] - 0s 19ms/step - loss: 0.0032 - mean_absolute_percentage_error: 83924.5234\n",
      "Epoch 7/100\n",
      "10/10 [==============================] - 0s 19ms/step - loss: 0.0025 - mean_absolute_percentage_error: 79045.2578\n",
      "Epoch 8/100\n",
      "10/10 [==============================] - 0s 20ms/step - loss: 0.0023 - mean_absolute_percentage_error: 66647.7500\n",
      "Epoch 9/100\n",
      "10/10 [==============================] - 0s 19ms/step - loss: 0.0019 - mean_absolute_percentage_error: 64707.4141\n",
      "Epoch 10/100\n",
      "10/10 [==============================] - 0s 19ms/step - loss: 0.0020 - mean_absolute_percentage_error: 62049.1133\n",
      "Epoch 11/100\n",
      "10/10 [==============================] - 0s 19ms/step - loss: 0.0021 - mean_absolute_percentage_error: 22412.6992\n",
      "Epoch 12/100\n",
      "10/10 [==============================] - 0s 19ms/step - loss: 0.0020 - mean_absolute_percentage_error: 41097.0781\n",
      "Epoch 13/100\n",
      "10/10 [==============================] - 0s 19ms/step - loss: 0.0017 - mean_absolute_percentage_error: 36484.3516\n",
      "Epoch 14/100\n",
      "10/10 [==============================] - 0s 19ms/step - loss: 0.0016 - mean_absolute_percentage_error: 18914.6895\n",
      "Epoch 15/100\n",
      "10/10 [==============================] - 0s 20ms/step - loss: 0.0014 - mean_absolute_percentage_error: 21399.3730\n",
      "Epoch 16/100\n",
      "10/10 [==============================] - 0s 19ms/step - loss: 0.0022 - mean_absolute_percentage_error: 33817.2656\n",
      "Epoch 17/100\n",
      "10/10 [==============================] - 0s 19ms/step - loss: 0.0019 - mean_absolute_percentage_error: 31410.1328\n",
      "Epoch 18/100\n",
      "10/10 [==============================] - 0s 21ms/step - loss: 0.0019 - mean_absolute_percentage_error: 34444.8203\n",
      "Epoch 19/100\n",
      "10/10 [==============================] - 0s 23ms/step - loss: 0.0021 - mean_absolute_percentage_error: 56398.2266\n",
      "Epoch 20/100\n",
      "10/10 [==============================] - 0s 22ms/step - loss: 0.0019 - mean_absolute_percentage_error: 30264.5176\n",
      "Epoch 21/100\n",
      "10/10 [==============================] - 0s 25ms/step - loss: 0.0020 - mean_absolute_percentage_error: 34679.4102\n",
      "Epoch 22/100\n",
      "10/10 [==============================] - 0s 25ms/step - loss: 0.0021 - mean_absolute_percentage_error: 30405.9941\n",
      "Epoch 23/100\n",
      "10/10 [==============================] - 0s 31ms/step - loss: 0.0020 - mean_absolute_percentage_error: 54811.7773\n",
      "Epoch 24/100\n",
      "10/10 [==============================] - 0s 30ms/step - loss: 0.0020 - mean_absolute_percentage_error: 65173.0898s - loss: 0.0019 - mean_absolute_percentage_error: 8761\n",
      "Epoch 25/100\n",
      "10/10 [==============================] - 0s 23ms/step - loss: 0.0015 - mean_absolute_percentage_error: 52122.0508\n",
      "Epoch 26/100\n",
      "10/10 [==============================] - 0s 20ms/step - loss: 0.0017 - mean_absolute_percentage_error: 17477.0469\n",
      "Epoch 27/100\n",
      "10/10 [==============================] - 0s 20ms/step - loss: 0.0020 - mean_absolute_percentage_error: 39548.1016\n",
      "Epoch 28/100\n",
      "10/10 [==============================] - 0s 21ms/step - loss: 0.0018 - mean_absolute_percentage_error: 40921.3242\n",
      "Epoch 29/100\n",
      "10/10 [==============================] - 0s 21ms/step - loss: 0.0024 - mean_absolute_percentage_error: 43547.3984\n",
      "Epoch 30/100\n",
      "10/10 [==============================] - 0s 20ms/step - loss: 0.0018 - mean_absolute_percentage_error: 65538.8828\n",
      "Epoch 31/100\n",
      "10/10 [==============================] - 0s 22ms/step - loss: 0.0015 - mean_absolute_percentage_error: 35698.6445\n",
      "Epoch 32/100\n",
      "10/10 [==============================] - 0s 21ms/step - loss: 0.0017 - mean_absolute_percentage_error: 46512.7461\n",
      "Epoch 33/100\n",
      "10/10 [==============================] - 0s 20ms/step - loss: 0.0014 - mean_absolute_percentage_error: 28735.2402\n",
      "Epoch 34/100\n",
      "10/10 [==============================] - 0s 23ms/step - loss: 0.0015 - mean_absolute_percentage_error: 29607.9609\n",
      "Epoch 35/100\n",
      "10/10 [==============================] - 0s 24ms/step - loss: 0.0015 - mean_absolute_percentage_error: 30774.4531\n",
      "Epoch 36/100\n",
      "10/10 [==============================] - 0s 21ms/step - loss: 0.0015 - mean_absolute_percentage_error: 34158.7656\n",
      "Epoch 37/100\n",
      "10/10 [==============================] - 0s 25ms/step - loss: 0.0018 - mean_absolute_percentage_error: 30061.8340\n",
      "Epoch 38/100\n",
      "10/10 [==============================] - 0s 26ms/step - loss: 0.0014 - mean_absolute_percentage_error: 86975.0781\n",
      "Epoch 39/100\n",
      "10/10 [==============================] - 0s 26ms/step - loss: 0.0017 - mean_absolute_percentage_error: 53601.9648\n",
      "Epoch 40/100\n",
      "10/10 [==============================] - 0s 23ms/step - loss: 0.0016 - mean_absolute_percentage_error: 77512.3359\n",
      "Epoch 41/100\n",
      "10/10 [==============================] - 0s 23ms/step - loss: 0.0017 - mean_absolute_percentage_error: 38259.3125 0s - loss: 0.0018 - mean_absolute_percentage_error: 29252.\n",
      "Epoch 42/100\n",
      "10/10 [==============================] - 0s 23ms/step - loss: 0.0017 - mean_absolute_percentage_error: 79129.6953\n",
      "Epoch 43/100\n",
      "10/10 [==============================] - 0s 20ms/step - loss: 0.0025 - mean_absolute_percentage_error: 85140.7422\n",
      "Epoch 44/100\n",
      "10/10 [==============================] - 0s 22ms/step - loss: 0.0018 - mean_absolute_percentage_error: 52450.2773\n",
      "Epoch 45/100\n",
      "10/10 [==============================] - 0s 23ms/step - loss: 0.0016 - mean_absolute_percentage_error: 61922.8672\n",
      "Epoch 46/100\n",
      "10/10 [==============================] - 0s 23ms/step - loss: 0.0013 - mean_absolute_percentage_error: 49185.7031\n",
      "Epoch 47/100\n",
      "10/10 [==============================] - 0s 21ms/step - loss: 0.0018 - mean_absolute_percentage_error: 45377.4844\n",
      "Epoch 48/100\n",
      "10/10 [==============================] - 0s 19ms/step - loss: 0.0015 - mean_absolute_percentage_error: 39046.7734\n",
      "Epoch 49/100\n",
      "10/10 [==============================] - 0s 20ms/step - loss: 0.0016 - mean_absolute_percentage_error: 69286.2344\n",
      "Epoch 50/100\n",
      "10/10 [==============================] - 0s 20ms/step - loss: 0.0018 - mean_absolute_percentage_error: 61347.7031\n",
      "Epoch 51/100\n",
      "10/10 [==============================] - 0s 22ms/step - loss: 0.0016 - mean_absolute_percentage_error: 40508.2734\n",
      "Epoch 52/100\n",
      "10/10 [==============================] - 0s 20ms/step - loss: 0.0016 - mean_absolute_percentage_error: 51739.3359\n",
      "Epoch 53/100\n",
      "10/10 [==============================] - 0s 21ms/step - loss: 0.0014 - mean_absolute_percentage_error: 69182.3359\n",
      "Epoch 54/100\n",
      "10/10 [==============================] - 0s 18ms/step - loss: 0.0016 - mean_absolute_percentage_error: 65195.2539\n",
      "Epoch 55/100\n",
      "10/10 [==============================] - 0s 18ms/step - loss: 0.0020 - mean_absolute_percentage_error: 46177.3828\n",
      "Epoch 56/100\n",
      "10/10 [==============================] - 0s 22ms/step - loss: 0.0016 - mean_absolute_percentage_error: 24253.5547\n",
      "Epoch 57/100\n",
      "10/10 [==============================] - 0s 21ms/step - loss: 0.0017 - mean_absolute_percentage_error: 11792.3203\n",
      "Epoch 58/100\n",
      "10/10 [==============================] - 0s 19ms/step - loss: 0.0014 - mean_absolute_percentage_error: 47917.2852\n",
      "Epoch 59/100\n",
      "10/10 [==============================] - 0s 20ms/step - loss: 0.0014 - mean_absolute_percentage_error: 69762.7109\n",
      "Epoch 60/100\n",
      "10/10 [==============================] - 0s 24ms/step - loss: 0.0017 - mean_absolute_percentage_error: 48205.0039\n",
      "Epoch 61/100\n",
      "10/10 [==============================] - 0s 26ms/step - loss: 0.0015 - mean_absolute_percentage_error: 50575.0664\n",
      "Epoch 62/100\n",
      "10/10 [==============================] - 0s 19ms/step - loss: 0.0015 - mean_absolute_percentage_error: 47054.1953\n",
      "Epoch 63/100\n",
      "10/10 [==============================] - 0s 22ms/step - loss: 0.0015 - mean_absolute_percentage_error: 27417.3594\n",
      "Epoch 64/100\n",
      "10/10 [==============================] - 0s 24ms/step - loss: 0.0016 - mean_absolute_percentage_error: 12674.9170\n",
      "Epoch 65/100\n",
      "10/10 [==============================] - 0s 22ms/step - loss: 0.0015 - mean_absolute_percentage_error: 41687.7812\n",
      "Epoch 66/100\n",
      "10/10 [==============================] - 0s 21ms/step - loss: 0.0014 - mean_absolute_percentage_error: 83632.0703\n",
      "Epoch 67/100\n",
      "10/10 [==============================] - 0s 24ms/step - loss: 0.0017 - mean_absolute_percentage_error: 42110.5742\n",
      "Epoch 68/100\n",
      "10/10 [==============================] - 0s 22ms/step - loss: 0.0014 - mean_absolute_percentage_error: 46114.3711\n",
      "Epoch 69/100\n",
      "10/10 [==============================] - 0s 19ms/step - loss: 0.0013 - mean_absolute_percentage_error: 50285.6875\n",
      "Epoch 70/100\n",
      "10/10 [==============================] - 0s 18ms/step - loss: 0.0013 - mean_absolute_percentage_error: 35978.9492\n",
      "Epoch 71/100\n",
      "10/10 [==============================] - 0s 18ms/step - loss: 0.0013 - mean_absolute_percentage_error: 37048.6016\n",
      "Epoch 72/100\n",
      "10/10 [==============================] - 0s 18ms/step - loss: 0.0013 - mean_absolute_percentage_error: 71034.7656\n",
      "Epoch 73/100\n",
      "10/10 [==============================] - 0s 19ms/step - loss: 0.0015 - mean_absolute_percentage_error: 41790.4961\n",
      "Epoch 74/100\n",
      "10/10 [==============================] - 0s 20ms/step - loss: 0.0014 - mean_absolute_percentage_error: 48839.1211\n",
      "Epoch 75/100\n",
      "10/10 [==============================] - 0s 18ms/step - loss: 0.0013 - mean_absolute_percentage_error: 27675.9316\n",
      "Epoch 76/100\n",
      "10/10 [==============================] - 0s 20ms/step - loss: 0.0017 - mean_absolute_percentage_error: 64751.1797\n",
      "Epoch 77/100\n",
      "10/10 [==============================] - 0s 18ms/step - loss: 0.0015 - mean_absolute_percentage_error: 57980.3203\n",
      "Epoch 78/100\n",
      "10/10 [==============================] - 0s 18ms/step - loss: 0.0016 - mean_absolute_percentage_error: 27800.8184\n",
      "Epoch 79/100\n",
      "10/10 [==============================] - 0s 18ms/step - loss: 0.0014 - mean_absolute_percentage_error: 67234.7500\n",
      "Epoch 80/100\n",
      "10/10 [==============================] - 0s 23ms/step - loss: 0.0016 - mean_absolute_percentage_error: 33545.9180\n",
      "Epoch 81/100\n",
      "10/10 [==============================] - 0s 18ms/step - loss: 0.0014 - mean_absolute_percentage_error: 52021.2070\n",
      "Epoch 82/100\n",
      "10/10 [==============================] - 0s 18ms/step - loss: 0.0017 - mean_absolute_percentage_error: 42865.1797\n",
      "Epoch 83/100\n",
      "10/10 [==============================] - 0s 18ms/step - loss: 0.0018 - mean_absolute_percentage_error: 88813.9375\n",
      "Epoch 84/100\n",
      "10/10 [==============================] - 0s 18ms/step - loss: 0.0018 - mean_absolute_percentage_error: 110106.2266\n",
      "Epoch 85/100\n",
      "10/10 [==============================] - 0s 18ms/step - loss: 0.0019 - mean_absolute_percentage_error: 72656.2969\n",
      "Epoch 86/100\n",
      "10/10 [==============================] - 0s 18ms/step - loss: 0.0018 - mean_absolute_percentage_error: 110793.5781\n",
      "Epoch 87/100\n",
      "10/10 [==============================] - 0s 18ms/step - loss: 0.0016 - mean_absolute_percentage_error: 49784.7148\n",
      "Epoch 88/100\n",
      "10/10 [==============================] - 0s 18ms/step - loss: 0.0015 - mean_absolute_percentage_error: 63259.8945\n",
      "Epoch 89/100\n",
      "10/10 [==============================] - 0s 18ms/step - loss: 0.0014 - mean_absolute_percentage_error: 55028.9531\n",
      "Epoch 90/100\n",
      "10/10 [==============================] - 0s 18ms/step - loss: 0.0013 - mean_absolute_percentage_error: 60712.0977\n",
      "Epoch 91/100\n",
      "10/10 [==============================] - 0s 18ms/step - loss: 0.0012 - mean_absolute_percentage_error: 64681.6055\n",
      "Epoch 92/100\n",
      "10/10 [==============================] - 0s 18ms/step - loss: 0.0015 - mean_absolute_percentage_error: 33806.5977\n",
      "Epoch 93/100\n",
      "10/10 [==============================] - 0s 18ms/step - loss: 0.0019 - mean_absolute_percentage_error: 56525.6680\n",
      "Epoch 94/100\n",
      "10/10 [==============================] - 0s 18ms/step - loss: 0.0019 - mean_absolute_percentage_error: 54154.3125\n",
      "Epoch 95/100\n",
      "10/10 [==============================] - 0s 18ms/step - loss: 0.0015 - mean_absolute_percentage_error: 84419.8438\n",
      "Epoch 96/100\n",
      "10/10 [==============================] - 0s 23ms/step - loss: 0.0013 - mean_absolute_percentage_error: 60640.6445\n",
      "Epoch 97/100\n",
      "10/10 [==============================] - 0s 22ms/step - loss: 0.0015 - mean_absolute_percentage_error: 62301.7852\n",
      "Epoch 98/100\n",
      "10/10 [==============================] - 0s 20ms/step - loss: 0.0013 - mean_absolute_percentage_error: 78061.8203\n",
      "Epoch 99/100\n",
      "10/10 [==============================] - 0s 20ms/step - loss: 0.0012 - mean_absolute_percentage_error: 56430.3242\n",
      "Epoch 100/100\n",
      "10/10 [==============================] - 0s 19ms/step - loss: 0.0011 - mean_absolute_percentage_error: 61141.2969\n"
     ]
    }
   ],
   "source": [
    "model_hist = model.fit(X_train, \n",
    "                       y_train, \n",
    "                       epochs=100,\n",
    "                       batch_size=65,\n",
    "                       callbacks=[tensorboard_callback])"
   ]
  },
  {
   "cell_type": "code",
   "execution_count": 38,
   "metadata": {},
   "outputs": [
    {
     "data": {
      "text/plain": [
       "dict_keys(['loss', 'mean_absolute_percentage_error'])"
      ]
     },
     "execution_count": 38,
     "metadata": {},
     "output_type": "execute_result"
    }
   ],
   "source": [
    "model_hist.history.keys()"
   ]
  },
  {
   "cell_type": "markdown",
   "metadata": {},
   "source": [
    "## plot the loss and metrics"
   ]
  },
  {
   "cell_type": "code",
   "execution_count": 39,
   "metadata": {},
   "outputs": [
    {
     "data": {
      "image/png": "[encoded data removed]",
      "text/plain": [
       "<Figure size 720x360 with 2 Axes>"
      ]
     },
     "metadata": {
      "needs_background": "light"
     },
     "output_type": "display_data"
    }
   ],
   "source": [
    "train_loss = model_hist.history['loss']\n",
    "train_metrics = model_hist.history['mean_absolute_percentage_error']\n",
    "\n",
    "fig, ax = plt.subplots(1, 2, figsize=(10, 5))\n",
    "fig.suptitle('MSE Loss and MAPE Metrics vs Epochs')\n",
    "\n",
    "ax[0].plot(train_loss)\n",
    "ax[0].set_xlabel('epochs')\n",
    "ax[0].set_ylabel('MSE loss')\n",
    "\n",
    "ax[1].plot(train_metrics)\n",
    "ax[1].set_xlabel('epochs')\n",
    "ax[1].set_ylabel('MAPE metrics')\n",
    "\n",
    "plt.tight_layout()\n",
    "plt.show()"
   ]
  },
  {
   "cell_type": "markdown",
   "metadata": {},
   "source": [
    "# Predictions"
   ]
  },
  {
   "cell_type": "code",
   "execution_count": 40,
   "metadata": {},
   "outputs": [
    {
     "data": {
      "text/plain": [
       "(100, 30)"
      ]
     },
     "execution_count": 40,
     "metadata": {},
     "output_type": "execute_result"
    }
   ],
   "source": [
    "X_test.shape"
   ]
  },
  {
   "cell_type": "code",
   "execution_count": 41,
   "metadata": {},
   "outputs": [
    {
     "data": {
      "text/plain": [
       "(100, 30, 1)"
      ]
     },
     "execution_count": 41,
     "metadata": {},
     "output_type": "execute_result"
    }
   ],
   "source": [
    "X_test_expanded = np.expand_dims(X_test, axis=-1)\n",
    "X_test_expanded.shape"
   ]
  },
  {
   "cell_type": "markdown",
   "metadata": {},
   "source": [
    "meaning above: 100 samples | 30 timesteps in each sample | 1 'feature' in each timestep i.e. number of case for that day"
   ]
  },
  {
   "cell_type": "code",
   "execution_count": 46,
   "metadata": {},
   "outputs": [],
   "source": [
    "y_pred = model.predict(X_test_expanded)\n",
    "y_pred_actual = mms.inverse_transform(y_pred)\n",
    "y_test_actual = mms.inverse_transform(y_test)"
   ]
  },
  {
   "cell_type": "code",
   "execution_count": 47,
   "metadata": {},
   "outputs": [
    {
     "data": {
      "image/png": "[encoded data removed]",
      "text/plain": [
       "<Figure size 720x360 with 1 Axes>"
      ]
     },
     "metadata": {
      "needs_background": "light"
     },
     "output_type": "display_data"
    }
   ],
   "source": [
    "fig, ax = plt.subplots(1, 1, figsize=(10, 5))\n",
    "\n",
    "ax.plot(y_test_actual, label='Actual new cases')\n",
    "ax.plot(y_pred_actual, label='Predicted new cases')\n",
    "ax.set_title('Covid-19 Daily New Cases (Dec 2021 - Mar 2022)')\n",
    "ax.set_ylabel('new cases')\n",
    "ax.set_xlabel('days since 5 Dec 2021')\n",
    "ax.legend()\n",
    "\n",
    "plt.tight_layout()\n",
    "plt.show()"
   ]
  },
  {
   "cell_type": "markdown",
   "metadata": {},
   "source": [
    "# Performance metrics"
   ]
  },
  {
   "cell_type": "code",
   "execution_count": 48,
   "metadata": {},
   "outputs": [
    {
     "name": "stdout",
     "output_type": "stream",
     "text": [
      "MSE is 9010308.0\n",
      "MAE is 1827.9368896484375\n",
      "MAPE is 15.219121932983398\n"
     ]
    }
   ],
   "source": [
    "mse = mean_squared_error(y_test_actual[: , 0], y_pred_actual[: , 0])\n",
    "mae = mean_absolute_error(y_test_actual[: , 0], y_pred_actual[: , 0])\n",
    "mape = mean_absolute_percentage_error(y_test_actual[: , 0], y_pred_actual[: , 0])\n",
    "\n",
    "print(f'MSE is {mse}\\nMAE is {mae}\\nMAPE is {mape}')"
   ]
  },
  {
   "cell_type": "markdown",
   "metadata": {},
   "source": [
    "# Save the best model"
   ]
  },
  {
   "cell_type": "code",
   "execution_count": 467,
   "metadata": {},
   "outputs": [],
   "source": [
    "model.save(MODEL_PATH)"
   ]
  },
  {
   "cell_type": "markdown",
   "metadata": {},
   "source": [
    "# Tensorboard"
   ]
  },
  {
   "cell_type": "code",
   "execution_count": 464,
   "metadata": {},
   "outputs": [],
   "source": [
    "# %load_ext tensorboard"
   ]
  },
  {
   "cell_type": "code",
   "execution_count": 465,
   "metadata": {},
   "outputs": [],
   "source": [
    "# %tensorboard --logdir logs"
   ]
  }
 ],
 "metadata": {
  "kernelspec": {
   "display_name": "Python 3.8.13 ('tf_env')",
   "language": "python",
   "name": "python3"
  },
  "language_info": {
   "codemirror_mode": {
    "name": "ipython",
    "version": 3
   },
   "file_extension": ".py",
   "mimetype": "text/x-python",
   "name": "python",
   "nbconvert_exporter": "python",
   "pygments_lexer": "ipython3",
   "version": "3.8.13"
  },
  "orig_nbformat": 4,
  "vscode": {
   "interpreter": {
    "hash": "c6fc66f71a4b96d3bac3616c54eafe1eb1c4acefbef9e7afe38817145388afa6"
   }
  }
 },
 "nbformat": 4,
 "nbformat_minor": 2
}
